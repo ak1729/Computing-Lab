{
 "cells": [
  {
   "cell_type": "markdown",
   "id": "de2c8315",
   "metadata": {},
   "source": [
    "## Anurag Kumar\n",
    "## 419MA5074"
   ]
  },
  {
   "cell_type": "code",
   "execution_count": 1,
   "id": "200c7d1d",
   "metadata": {},
   "outputs": [],
   "source": [
    "import numpy as np"
   ]
  },
  {
   "cell_type": "code",
   "execution_count": 2,
   "id": "4f68e2b5",
   "metadata": {},
   "outputs": [
    {
     "data": {
      "text/plain": [
       "array([[   1.19 ,    2.11 , -100.   ,    1.   ],\n",
       "       [  14.2  ,   -0.122,   12.2  ,   -1.   ],\n",
       "       [   0.   ,  100.   ,  -99.9  ,    1.   ],\n",
       "       [  15.3  ,    0.11 ,  -13.1  ,   -1.   ]])"
      ]
     },
     "execution_count": 2,
     "metadata": {},
     "output_type": "execute_result"
    }
   ],
   "source": [
    "# Question 1(a)\n",
    "\n",
    "a = np.array([[1.19, 2.11, -100, 1], [14.2, -0.122, 12.2, -1], [0, 100, -99.9, 1], [15.3, 0.11, -13.1, -1]])\n",
    "a"
   ]
  },
  {
   "cell_type": "code",
   "execution_count": 3,
   "id": "28582a10",
   "metadata": {},
   "outputs": [
    {
     "data": {
      "text/plain": [
       "array([1.12, 3.44, 2.15, 4.16])"
      ]
     },
     "execution_count": 3,
     "metadata": {},
     "output_type": "execute_result"
    }
   ],
   "source": [
    "b = np.array([1.12, 3.44, 2.15, 4.16])\n",
    "b"
   ]
  },
  {
   "cell_type": "code",
   "execution_count": 4,
   "id": "c57e0b64",
   "metadata": {},
   "outputs": [
    {
     "data": {
      "text/plain": [
       "4"
      ]
     },
     "execution_count": 4,
     "metadata": {},
     "output_type": "execute_result"
    }
   ],
   "source": [
    "n = a.shape[0]\n",
    "n"
   ]
  },
  {
   "cell_type": "code",
   "execution_count": 5,
   "id": "b7ab3db6",
   "metadata": {},
   "outputs": [
    {
     "data": {
      "text/plain": [
       "array([[1., 0., 0., 0.],\n",
       "       [0., 1., 0., 0.],\n",
       "       [0., 0., 1., 0.],\n",
       "       [0., 0., 0., 1.]])"
      ]
     },
     "execution_count": 5,
     "metadata": {},
     "output_type": "execute_result"
    }
   ],
   "source": [
    "L = np.identity(n)\n",
    "L"
   ]
  },
  {
   "cell_type": "code",
   "execution_count": 6,
   "id": "6431d095",
   "metadata": {},
   "outputs": [
    {
     "name": "stdout",
     "output_type": "stream",
     "text": [
      "U= [[ 1.19000000e+00  2.11000000e+00 -1.00000000e+02  1.00000000e+00]\n",
      " [ 0.00000000e+00 -2.53001513e+01  1.20547731e+03 -1.29327731e+01]\n",
      " [ 0.00000000e+00  0.00000000e+00  4.66480397e+03 -5.01173747e+01]\n",
      " [ 0.00000000e+00  0.00000000e+00  0.00000000e+00 -2.04328072e-01]]\n",
      "L= [[ 1.00000000e+00  0.00000000e+00  0.00000000e+00  0.00000000e+00]\n",
      " [ 1.19327731e+01  1.00000000e+00  0.00000000e+00  0.00000000e+00]\n",
      " [ 0.00000000e+00 -3.95254554e+00  1.00000000e+00  0.00000000e+00]\n",
      " [ 1.28571429e+01  1.06792134e+00 -3.15997398e-03  1.00000000e+00]]\n"
     ]
    }
   ],
   "source": [
    "for k in range(n-1):\n",
    "    for i in range(k+1, n):\n",
    "        m = a[i,k]/a[k,k]\n",
    "        L[i,k]=m\n",
    "        for j in range(k,n):\n",
    "            a[i,j] = a[i,j] - m*a[k,j]\n",
    "print(\"U=\",a) \n",
    "print(\"L=\",L) "
   ]
  },
  {
   "cell_type": "code",
   "execution_count": 7,
   "id": "df58575f",
   "metadata": {},
   "outputs": [
    {
     "name": "stdout",
     "output_type": "stream",
     "text": [
      "y =  [  1.12        -9.92470588 -37.07785196   0.24164015]\n"
     ]
    }
   ],
   "source": [
    "# Question 1(b)\n",
    "\n",
    "y = np.zeros(n)\n",
    "y[0] = b[0]\n",
    "for i in range(1,n):\n",
    "    sum = b[i]\n",
    "    for j in range(0,i):\n",
    "        sum = sum - L[i,j]*y[j]\n",
    "    y[i] = sum\n",
    "print('y = ',y)"
   ]
  },
  {
   "cell_type": "code",
   "execution_count": 8,
   "id": "9f72d92c",
   "metadata": {},
   "outputs": [
    {
     "name": "stdout",
     "output_type": "stream",
     "text": [
      "x =  [ 0.1768253   0.01269269 -0.02065405 -1.1826087 ]\n"
     ]
    }
   ],
   "source": [
    "# Question 1(c)\n",
    "\n",
    "x = np.zeros(n)\n",
    "x[n-1] = y[n-1]/a[n-1,n-1]\n",
    "for i in range(n-2,-1,-1):\n",
    "    sum = y[i]\n",
    "    for j in range(i+1,n):\n",
    "        sum = sum -a[i,j]*x[j]\n",
    "    x[i] = sum/a[i,i]\n",
    "print('x = ',x)"
   ]
  }
 ],
 "metadata": {
  "kernelspec": {
   "display_name": "Python 3 (ipykernel)",
   "language": "python",
   "name": "python3"
  },
  "language_info": {
   "codemirror_mode": {
    "name": "ipython",
    "version": 3
   },
   "file_extension": ".py",
   "mimetype": "text/x-python",
   "name": "python",
   "nbconvert_exporter": "python",
   "pygments_lexer": "ipython3",
   "version": "3.9.7"
  }
 },
 "nbformat": 4,
 "nbformat_minor": 5
}
