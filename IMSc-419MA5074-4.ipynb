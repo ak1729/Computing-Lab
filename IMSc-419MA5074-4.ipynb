{
 "cells": [
  {
   "cell_type": "markdown",
   "id": "805aa045",
   "metadata": {},
   "source": [
    "## Anurag Kumar\n",
    "## 419MA5074"
   ]
  },
  {
   "cell_type": "code",
   "execution_count": 1,
   "id": "c14e23c4",
   "metadata": {},
   "outputs": [],
   "source": [
    "# Importing Libraries\n",
    "import numpy as np\n",
    "import matplotlib.pyplot as plt"
   ]
  },
  {
   "cell_type": "markdown",
   "id": "d8a727e6",
   "metadata": {},
   "source": [
    "## Visual Inspection"
   ]
  },
  {
   "cell_type": "code",
   "execution_count": 2,
   "id": "1a207454",
   "metadata": {},
   "outputs": [
    {
     "data": {
      "text/plain": [
       "<matplotlib.legend.Legend at 0x2783e4034f0>"
      ]
     },
     "execution_count": 2,
     "metadata": {},
     "output_type": "execute_result"
    },
    {
     "data": {
      "image/png": "[encoded data removed]",
      "text/plain": [
       "<Figure size 432x288 with 1 Axes>"
      ]
     },
     "metadata": {
      "needs_background": "light"
     },
     "output_type": "display_data"
    }
   ],
   "source": [
    "# Question 1(a)\n",
    "\n",
    "x = np.linspace(0, 10, 5000)\n",
    "y = np.exp(-x/5)\n",
    "z = np.sin(x)\n",
    "plt.plot(x, y, x, z)\n",
    "plt.xlabel('x-axis')\n",
    "plt.ylabel('y-axis')\n",
    "plt.legend(['sin(x)', 'exp(-x/5)'])"
   ]
  },
  {
   "cell_type": "code",
   "execution_count": 3,
   "id": "1f647197",
   "metadata": {},
   "outputs": [
    {
     "data": {
      "text/plain": [
       "(-0.022740231729914684, -0.23897738079004238, 0.4254118794317565)"
      ]
     },
     "execution_count": 3,
     "metadata": {},
     "output_type": "execute_result"
    }
   ],
   "source": [
    "# Question 1(b)\n",
    "\n",
    "def f(x):\n",
    "    return np.exp(-x/5) - np.sin(x)\n",
    "\n",
    "f(1), f(2), f(0.5)"
   ]
  },
  {
   "cell_type": "markdown",
   "id": "dbbeee21",
   "metadata": {},
   "source": [
    "## Bisection Method"
   ]
  },
  {
   "cell_type": "code",
   "execution_count": 4,
   "id": "d2a41f36",
   "metadata": {},
   "outputs": [],
   "source": [
    "def bisectionMethod(a, b):\n",
    "    c = (a + b)/2\n",
    "    count = 0\n",
    "\n",
    "    while(abs(f(c)) > 10**(-7)):\n",
    "        if(f(c)*f(b) < 0):\n",
    "            a = c\n",
    "        else:\n",
    "            b = c\n",
    "        count += 1\n",
    "        c = (a + b)/2\n",
    "    print(\"Root in the given interval is:\", c)\n",
    "    print(\"Number of iteration:\", count)"
   ]
  },
  {
   "cell_type": "code",
   "execution_count": 5,
   "id": "46a1aa29",
   "metadata": {},
   "outputs": [
    {
     "name": "stdout",
     "output_type": "stream",
     "text": [
      "Root in the given interval is: 0.9683198928833008\n",
      "Number of iteration: 20\n"
     ]
    }
   ],
   "source": [
    "# roo1 interval is (0, 2)\n",
    "bisectionMethod(0, 2)"
   ]
  },
  {
   "cell_type": "code",
   "execution_count": 6,
   "id": "1b9d405f",
   "metadata": {},
   "outputs": [
    {
     "name": "stdout",
     "output_type": "stream",
     "text": [
      "Root in the given interval is: 2.4880809783935547\n",
      "Number of iteration: 19\n"
     ]
    }
   ],
   "source": [
    "# root2 interval is (2, 4)\n",
    "bisectionMethod(2, 4)"
   ]
  },
  {
   "cell_type": "code",
   "execution_count": 7,
   "id": "97d44e24",
   "metadata": {},
   "outputs": [
    {
     "name": "stdout",
     "output_type": "stream",
     "text": [
      "Root in the given interval is: 6.5560524463653564\n",
      "Number of iteration: 22\n"
     ]
    }
   ],
   "source": [
    "# root2 interval is (6, 8)\n",
    "bisectionMethod(6, 8)"
   ]
  },
  {
   "cell_type": "code",
   "execution_count": 8,
   "id": "b6589dc4",
   "metadata": {},
   "outputs": [
    {
     "name": "stdout",
     "output_type": "stream",
     "text": [
      "Root in the given interval is: 9.267439842224121\n",
      "Number of iteration: 20\n"
     ]
    }
   ],
   "source": [
    "# root2 interval is (8, 10)\n",
    "bisectionMethod(8, 10)"
   ]
  },
  {
   "cell_type": "markdown",
   "id": "19a4c142",
   "metadata": {},
   "source": [
    "## Regula-falsi Method"
   ]
  },
  {
   "cell_type": "code",
   "execution_count": 9,
   "id": "b58b8949",
   "metadata": {},
   "outputs": [],
   "source": [
    "# Question 1(c)\n",
    "def regulaFalsi(a, b):\n",
    "    \n",
    "    c = (a*f(b) - b*f(a))/(f(b) - f(a))\n",
    "    count = 0\n",
    "    \n",
    "    while(abs(f(c)) > 10**(-7)):\n",
    "        \n",
    "        if(f(b)*f(c) < 0):\n",
    "            a = c\n",
    "        else:\n",
    "            b = c\n",
    "        count += 1\n",
    "        c = (a*f(b) - b*f(a))/(f(b) - f(a))\n",
    "    print(\"Root in the given interval is:\", c)\n",
    "    print(\"Number of iteration is:\", count)"
   ]
  },
  {
   "cell_type": "code",
   "execution_count": 10,
   "id": "79cf36d8",
   "metadata": {},
   "outputs": [
    {
     "name": "stdout",
     "output_type": "stream",
     "text": [
      "Root in the given interval is: 0.9683198445828591\n",
      "Number of iteration is: 14\n"
     ]
    }
   ],
   "source": [
    "# root1 interval is (0, 2)\n",
    "regulaFalsi(0, 2)"
   ]
  },
  {
   "cell_type": "code",
   "execution_count": 11,
   "id": "8b804cd9",
   "metadata": {},
   "outputs": [
    {
     "name": "stdout",
     "output_type": "stream",
     "text": [
      "Root in the given interval is: 2.4880809270691793\n",
      "Number of iteration is: 8\n"
     ]
    }
   ],
   "source": [
    "# root2 interval is (2, 4)\n",
    "regulaFalsi(2, 4)"
   ]
  },
  {
   "cell_type": "code",
   "execution_count": 12,
   "id": "cf563906",
   "metadata": {},
   "outputs": [
    {
     "name": "stdout",
     "output_type": "stream",
     "text": [
      "Root in the given interval is: 6.55605249111383\n",
      "Number of iteration is: 5\n"
     ]
    }
   ],
   "source": [
    "# root3 interval is (6, 8)\n",
    "regulaFalsi(6, 8)"
   ]
  },
  {
   "cell_type": "code",
   "execution_count": 13,
   "id": "198fa3a7",
   "metadata": {},
   "outputs": [
    {
     "name": "stdout",
     "output_type": "stream",
     "text": [
      "Root in the given interval is: 9.267439923094305\n",
      "Number of iteration is: 3\n"
     ]
    }
   ],
   "source": [
    "# root4 interval is (8, 10)\n",
    "regulaFalsi(8, 10)"
   ]
  },
  {
   "cell_type": "markdown",
   "id": "666f3339",
   "metadata": {},
   "source": [
    "## Regula-Falsi method converges faster than Bisection method"
   ]
  },
  {
   "cell_type": "markdown",
   "id": "f77851c5",
   "metadata": {},
   "source": [
    "## Newton Method"
   ]
  },
  {
   "cell_type": "code",
   "execution_count": 14,
   "id": "71457a38",
   "metadata": {},
   "outputs": [
    {
     "data": {
      "text/plain": [
       "-0.7040484564837362"
      ]
     },
     "execution_count": 14,
     "metadata": {},
     "output_type": "execute_result"
    }
   ],
   "source": [
    "# Question 1(d)\n",
    "\n",
    "def df(x):\n",
    "    return (-1/5)*np.exp(-x/5) - np.cos(x)\n",
    "df(1)"
   ]
  },
  {
   "cell_type": "code",
   "execution_count": 15,
   "id": "dedb8f22",
   "metadata": {},
   "outputs": [],
   "source": [
    "def newtonMethod(a, b):\n",
    "    count = 0\n",
    "    c = a - (f(a)/df(a))\n",
    "    \n",
    "    while(abs(f(c)) > 10**(-7)):\n",
    "        a = c\n",
    "        count += 1\n",
    "        c = a - (f(a)/df(a))\n",
    "        \n",
    "    print(\"Root in the given interval is:\", c)\n",
    "    print(\"Number of iteration is:\", count)"
   ]
  },
  {
   "cell_type": "code",
   "execution_count": 16,
   "id": "97d23720",
   "metadata": {},
   "outputs": [
    {
     "name": "stdout",
     "output_type": "stream",
     "text": [
      "Root in the given interval is: 0.9683197994850871\n",
      "Number of iteration is: 2\n"
     ]
    }
   ],
   "source": [
    "# root1 interval is (0, 2)\n",
    "newtonMethod(1, 2)"
   ]
  },
  {
   "cell_type": "code",
   "execution_count": 17,
   "id": "c8291621",
   "metadata": {},
   "outputs": [
    {
     "name": "stdout",
     "output_type": "stream",
     "text": [
      "Root in the given interval is: 2.488081112325788\n",
      "Number of iteration is: 3\n"
     ]
    }
   ],
   "source": [
    "# root2 interval is (2, 4)\n",
    "newtonMethod(2, 4)"
   ]
  },
  {
   "cell_type": "code",
   "execution_count": 18,
   "id": "28cc46d7",
   "metadata": {},
   "outputs": [
    {
     "name": "stdout",
     "output_type": "stream",
     "text": [
      "Root in the given interval is: 6.556052483485206\n",
      "Number of iteration is: 2\n"
     ]
    }
   ],
   "source": [
    "# root3 interval is (6, 8)\n",
    "newtonMethod(6, 8)"
   ]
  },
  {
   "cell_type": "code",
   "execution_count": 19,
   "id": "caef29d6",
   "metadata": {},
   "outputs": [
    {
     "name": "stdout",
     "output_type": "stream",
     "text": [
      "Root in the given interval is: 9.26743992578448\n",
      "Number of iteration is: 2\n"
     ]
    }
   ],
   "source": [
    "# root4 interval is (8, 10)\n",
    "newtonMethod(9, 10)"
   ]
  },
  {
   "cell_type": "markdown",
   "id": "b676ee03",
   "metadata": {},
   "source": [
    "## Newton method is faster than Regula-falsi method and more faster than Bisection method"
   ]
  },
  {
   "cell_type": "code",
   "execution_count": 20,
   "id": "9d39e904",
   "metadata": {},
   "outputs": [
    {
     "data": {
      "text/plain": [
       "<matplotlib.legend.Legend at 0x27840e88670>"
      ]
     },
     "execution_count": 20,
     "metadata": {},
     "output_type": "execute_result"
    },
    {
     "data": {
      "image/png": "[encoded data removed]",
      "text/plain": [
       "<Figure size 432x288 with 1 Axes>"
      ]
     },
     "metadata": {
      "needs_background": "light"
     },
     "output_type": "display_data"
    }
   ],
   "source": [
    "# Question 2(a)\n",
    "x1 = np.linspace(1, 10, 1000)\n",
    "y1 = 2**(-x1)\n",
    "z1 = np.cos(x1)\n",
    "plt.plot(x1, y1, x1, z1)\n",
    "plt.xlabel('x-axis')\n",
    "plt.ylabel('y-axis')\n",
    "plt.legend(['cos(x1)', '2^(-x1)'])"
   ]
  },
  {
   "cell_type": "code",
   "execution_count": 21,
   "id": "55bfe522",
   "metadata": {},
   "outputs": [
    {
     "data": {
      "text/plain": [
       "(0.0, -0.040302305868139765, 0.6661468365471424)"
      ]
     },
     "execution_count": 21,
     "metadata": {},
     "output_type": "execute_result"
    }
   ],
   "source": [
    "def g(x):\n",
    "    return 2**(-x) - np.cos(x)\n",
    "g(0), g(1), g(2)"
   ]
  },
  {
   "cell_type": "markdown",
   "id": "acf321d6",
   "metadata": {},
   "source": [
    "## Bisection Method"
   ]
  },
  {
   "cell_type": "code",
   "execution_count": 22,
   "id": "7a364699",
   "metadata": {},
   "outputs": [],
   "source": [
    "# Question 2(b)\n",
    "def bisectionMethod1(a, b):\n",
    "    c = (a + b)/2\n",
    "    count = 0\n",
    "\n",
    "    while(abs(g(c)) > 10**(-7)):\n",
    "        if(g(c)*g(b) < 0):\n",
    "            a = c\n",
    "        else:\n",
    "            b = c\n",
    "        count += 1\n",
    "        c = (a + b)/2\n",
    "    print(\"Root in the given interval is:\", c)\n",
    "    print(\"Number of iteration:\", count)"
   ]
  },
  {
   "cell_type": "code",
   "execution_count": 23,
   "id": "e6361105",
   "metadata": {},
   "outputs": [
    {
     "name": "stdout",
     "output_type": "stream",
     "text": [
      "Root in the given interval is: 1.0769250392913818\n",
      "Number of iteration: 22\n"
     ]
    }
   ],
   "source": [
    "# root2 interval is (0, 2)\n",
    "bisectionMethod1(0, 2)"
   ]
  },
  {
   "cell_type": "code",
   "execution_count": 24,
   "id": "0605a29c",
   "metadata": {},
   "outputs": [
    {
     "name": "stdout",
     "output_type": "stream",
     "text": [
      "Root in the given interval is: 4.749571323394775\n",
      "Number of iteration: 21\n"
     ]
    }
   ],
   "source": [
    "# root2 interval is (4, 6)\n",
    "bisectionMethod1(4, 6)"
   ]
  },
  {
   "cell_type": "code",
   "execution_count": 26,
   "id": "dd2d5fd6",
   "metadata": {},
   "outputs": [
    {
     "name": "stdout",
     "output_type": "stream",
     "text": [
      "Root in the given interval is: 7.849646329879761\n",
      "Number of iteration: 23\n"
     ]
    }
   ],
   "source": [
    "# root2 interval is (6, 10)\n",
    "bisectionMethod1(6, 10)"
   ]
  },
  {
   "cell_type": "markdown",
   "id": "f564ab1e",
   "metadata": {},
   "source": [
    "## Regula-Falsi Method"
   ]
  },
  {
   "cell_type": "code",
   "execution_count": 30,
   "id": "d46758ab",
   "metadata": {},
   "outputs": [],
   "source": [
    "# Question 2(c)\n",
    "def regulaFalsi1(a, b):\n",
    "    \n",
    "    c = (a*g(b) - b*g(a))/(g(b) - g(a))\n",
    "    count = 0\n",
    "    \n",
    "    while(abs(g(c)) > 10**(-7)):\n",
    "        \n",
    "        if(g(b)*g(c) < 0):\n",
    "            a = c\n",
    "        else:\n",
    "            b = c\n",
    "        count += 1\n",
    "        c = (a*g(b) - b*g(a))/(g(b) - g(a))\n",
    "    print(\"Root in the given interval is:\", c)\n",
    "    print(\"Number of iteration is:\", count)"
   ]
  },
  {
   "cell_type": "code",
   "execution_count": 31,
   "id": "981474e8",
   "metadata": {},
   "outputs": [
    {
     "name": "stdout",
     "output_type": "stream",
     "text": [
      "Root in the given interval is: 1.0769250028301645\n",
      "Number of iteration is: 9\n"
     ]
    }
   ],
   "source": [
    "# root1 interval is (1, 2)\n",
    "regulaFalsi1(1, 2)"
   ]
  },
  {
   "cell_type": "code",
   "execution_count": 32,
   "id": "97532faf",
   "metadata": {},
   "outputs": [
    {
     "name": "stdout",
     "output_type": "stream",
     "text": [
      "Root in the given interval is: 4.749571319521278\n",
      "Number of iteration is: 3\n"
     ]
    }
   ],
   "source": [
    "# root2 interval is (4, 6)\n",
    "regulaFalsi1(4, 6)"
   ]
  },
  {
   "cell_type": "code",
   "execution_count": 33,
   "id": "0469c185",
   "metadata": {},
   "outputs": [
    {
     "name": "stdout",
     "output_type": "stream",
     "text": [
      "Root in the given interval is: 7.849646301901538\n",
      "Number of iteration is: 4\n"
     ]
    }
   ],
   "source": [
    "# root3 interval is (6, 10)\n",
    "regulaFalsi1(6, 10)"
   ]
  },
  {
   "cell_type": "markdown",
   "id": "7b821529",
   "metadata": {},
   "source": [
    "## Newton Method"
   ]
  },
  {
   "cell_type": "code",
   "execution_count": 34,
   "id": "e8a81814",
   "metadata": {},
   "outputs": [
    {
     "data": {
      "text/plain": [
       "0.49489739452792386"
      ]
     },
     "execution_count": 34,
     "metadata": {},
     "output_type": "execute_result"
    }
   ],
   "source": [
    "# Question 2(d)\n",
    "def dg(x):\n",
    "    return (-np.log(2)*(2**(-x)) + np.sin(x))\n",
    "dg(1)"
   ]
  },
  {
   "cell_type": "code",
   "execution_count": 36,
   "id": "6f67b0bd",
   "metadata": {},
   "outputs": [],
   "source": [
    "def newtonMethod1(a, b):\n",
    "    count = 0\n",
    "    c = a - (g(a)/dg(a))\n",
    "    \n",
    "    while(abs(g(c)) > 10**(-7)):\n",
    "        a = c\n",
    "        count += 1\n",
    "        c = a - (g(a)/dg(a))\n",
    "        \n",
    "    print(\"Root in the given interval is:\", c)\n",
    "    print(\"Number of iteration is:\", count)"
   ]
  },
  {
   "cell_type": "code",
   "execution_count": 38,
   "id": "68f77dec",
   "metadata": {},
   "outputs": [
    {
     "name": "stdout",
     "output_type": "stream",
     "text": [
      "Root in the given interval is: 1.0769250481496706\n",
      "Number of iteration is: 2\n"
     ]
    }
   ],
   "source": [
    "# root1 interval is (1, 2)\n",
    "newtonMethod1(1, 2)"
   ]
  },
  {
   "cell_type": "code",
   "execution_count": 39,
   "id": "641e7b11",
   "metadata": {},
   "outputs": [
    {
     "name": "stdout",
     "output_type": "stream",
     "text": [
      "Root in the given interval is: 4.749571248193368\n",
      "Number of iteration is: 2\n"
     ]
    }
   ],
   "source": [
    "# root2 interval is (4, 6)\n",
    "newtonMethod1(4, 6)"
   ]
  },
  {
   "cell_type": "code",
   "execution_count": 40,
   "id": "a8685d5d",
   "metadata": {},
   "outputs": [
    {
     "name": "stdout",
     "output_type": "stream",
     "text": [
      "Root in the given interval is: 7.849646301906359\n",
      "Number of iteration is: 3\n"
     ]
    }
   ],
   "source": [
    "# root3 interval is (7, 8)\n",
    "newtonMethod1(7, 8)"
   ]
  },
  {
   "cell_type": "code",
   "execution_count": 45,
   "id": "654fd980",
   "metadata": {},
   "outputs": [
    {
     "data": {
      "text/plain": [
       "(0, 0, 4)"
      ]
     },
     "execution_count": 45,
     "metadata": {},
     "output_type": "execute_result"
    }
   ],
   "source": [
    "# Question 3(a)\n",
    "\n",
    "def m(x):\n",
    "    return (x**3 - 4*x**2 + 5*x - 2)\n",
    "m(1), m(2), m(3)"
   ]
  },
  {
   "cell_type": "code",
   "execution_count": 46,
   "id": "c00c0d57",
   "metadata": {},
   "outputs": [
    {
     "data": {
      "text/plain": [
       "(5, 1)"
      ]
     },
     "execution_count": 46,
     "metadata": {},
     "output_type": "execute_result"
    }
   ],
   "source": [
    "def dm(x):\n",
    "    return (3*x**2 - 8*x + 5)\n",
    "dm(0), dm(2)"
   ]
  },
  {
   "cell_type": "code",
   "execution_count": 47,
   "id": "1c714ef5",
   "metadata": {},
   "outputs": [],
   "source": [
    "def newtonMethod2(x0):\n",
    "    count = 0\n",
    "    c = x0 - (m(x0)/dm(x0))\n",
    "    \n",
    "    while(abs(m(c)) > 10**(-7)):\n",
    "        x0 = c\n",
    "        count += 1\n",
    "        c = x0 - (m(x0)/dm(x0))\n",
    "        \n",
    "    print(\"Root in the given interval is:\", c)\n",
    "    print(\"Number of iteration is:\", count)"
   ]
  },
  {
   "cell_type": "code",
   "execution_count": 48,
   "id": "cb6edd3d",
   "metadata": {},
   "outputs": [
    {
     "name": "stdout",
     "output_type": "stream",
     "text": [
      "Root in the given interval is: 0.9997836658744265\n",
      "Number of iteration is: 16\n"
     ]
    }
   ],
   "source": [
    "newtonMethod2(-5)"
   ]
  },
  {
   "cell_type": "code",
   "execution_count": 50,
   "id": "0d2f3d7f",
   "metadata": {},
   "outputs": [
    {
     "data": {
      "text/plain": [
       "(-0.4, 0.0)"
      ]
     },
     "execution_count": 50,
     "metadata": {},
     "output_type": "execute_result"
    }
   ],
   "source": [
    "# Question 3(b)\n",
    "def h(x):\n",
    "    return m(x)/dm(x)\n",
    "h(0), h(2)"
   ]
  },
  {
   "cell_type": "code",
   "execution_count": 51,
   "id": "ef51d98e",
   "metadata": {},
   "outputs": [
    {
     "data": {
      "text/plain": [
       "(0.36, 1.0)"
      ]
     },
     "execution_count": 51,
     "metadata": {},
     "output_type": "execute_result"
    }
   ],
   "source": [
    "def dh(x):\n",
    "    return (dm(x)**2 - m(x)*(6*x - 8))/dm(x)**2\n",
    "dh(0), dh(2)"
   ]
  },
  {
   "cell_type": "code",
   "execution_count": 52,
   "id": "ce17905e",
   "metadata": {},
   "outputs": [],
   "source": [
    "def newtonMethod3(x0):\n",
    "    count = 0\n",
    "    c = x0 - (h(x0)/dh(x0))\n",
    "    \n",
    "    while(abs(h(c)) > 10**(-7)):\n",
    "        x0 = c\n",
    "        count += 1\n",
    "        c = x0 - (h(x0)/dh(x0))\n",
    "        \n",
    "    print(\"Root in the given interval is:\", c)\n",
    "    print(\"Number of iteration is:\", count)"
   ]
  },
  {
   "cell_type": "code",
   "execution_count": 53,
   "id": "1e236201",
   "metadata": {},
   "outputs": [
    {
     "name": "stdout",
     "output_type": "stream",
     "text": [
      "Root in the given interval is: 0.9999999997496355\n",
      "Number of iteration is: 4\n"
     ]
    }
   ],
   "source": [
    "newtonMethod3(-5)"
   ]
  },
  {
   "cell_type": "markdown",
   "id": "986f3679",
   "metadata": {},
   "source": [
    "## Newton method converges faster for h(x) function than f(x) function"
   ]
  },
  {
   "cell_type": "code",
   "execution_count": 54,
   "id": "c0475a8a",
   "metadata": {},
   "outputs": [
    {
     "name": "stdout",
     "output_type": "stream",
     "text": [
      "Root in the given interval is: 2.000000003616417\n",
      "Number of iteration is: 7\n"
     ]
    }
   ],
   "source": [
    "# Question 4\n",
    "newtonMethod2(5)"
   ]
  },
  {
   "cell_type": "code",
   "execution_count": 55,
   "id": "0122504a",
   "metadata": {},
   "outputs": [
    {
     "name": "stdout",
     "output_type": "stream",
     "text": [
      "Root in the given interval is: 0.9999999994890812\n",
      "Number of iteration is: 6\n"
     ]
    }
   ],
   "source": [
    "newtonMethod3(5)"
   ]
  },
  {
   "cell_type": "markdown",
   "id": "dd03c15b",
   "metadata": {},
   "source": [
    "## In Question 3, intial guess is x0 = -5 , for this value h(x) coverges faster than f(x) but for x0 = 5 , f(x) diverges from root but h(x) gives the root."
   ]
  }
 ],
 "metadata": {
  "kernelspec": {
   "display_name": "Python 3 (ipykernel)",
   "language": "python",
   "name": "python3"
  },
  "language_info": {
   "codemirror_mode": {
    "name": "ipython",
    "version": 3
   },
   "file_extension": ".py",
   "mimetype": "text/x-python",
   "name": "python",
   "nbconvert_exporter": "python",
   "pygments_lexer": "ipython3",
   "version": "3.9.7"
  }
 },
 "nbformat": 4,
 "nbformat_minor": 5
}
