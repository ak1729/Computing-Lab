{
 "cells": [
  {
   "cell_type": "markdown",
   "id": "201e66a6",
   "metadata": {},
   "source": [
    "## Anurag Kumar\n",
    "## 419MA5074"
   ]
  },
  {
   "cell_type": "code",
   "execution_count": 1,
   "id": "4c184dcb",
   "metadata": {},
   "outputs": [],
   "source": [
    "import numpy as np"
   ]
  },
  {
   "cell_type": "code",
   "execution_count": 2,
   "id": "4e122dce",
   "metadata": {},
   "outputs": [
    {
     "data": {
      "text/plain": [
       "4"
      ]
     },
     "execution_count": 2,
     "metadata": {},
     "output_type": "execute_result"
    }
   ],
   "source": [
    "# Question 1\n",
    "a = np.array([[1.19, 2.11, -100, 1], [14.2, -0.122, 12.2, -1], [0, 100, -99.9, 1], [15.3, 0.11, -13.1, -1]])\n",
    "n = a.shape[0]\n",
    "n"
   ]
  },
  {
   "cell_type": "code",
   "execution_count": 3,
   "id": "7f8a5fa3",
   "metadata": {},
   "outputs": [
    {
     "data": {
      "text/plain": [
       "array([1.12, 3.44, 2.15, 4.16])"
      ]
     },
     "execution_count": 3,
     "metadata": {},
     "output_type": "execute_result"
    }
   ],
   "source": [
    "b = np.array([1.12, 3.44, 2.15, 4.16])\n",
    "b"
   ]
  },
  {
   "cell_type": "code",
   "execution_count": 4,
   "id": "22130ff3",
   "metadata": {},
   "outputs": [
    {
     "data": {
      "text/plain": [
       "array([0., 0., 0., 0.])"
      ]
     },
     "execution_count": 4,
     "metadata": {},
     "output_type": "execute_result"
    }
   ],
   "source": [
    "x = np.zeros(n)\n",
    "x"
   ]
  },
  {
   "cell_type": "code",
   "execution_count": 5,
   "id": "13533ffa",
   "metadata": {},
   "outputs": [
    {
     "name": "stdout",
     "output_type": "stream",
     "text": [
      "Answer\n",
      "[ 0.1768253   0.01269269 -0.02065405 -1.1826087 ]\n"
     ]
    }
   ],
   "source": [
    "for k in range(n):\n",
    "    for i in range(k+1,n):\n",
    "        p = a[i,k]/a[k,k]\n",
    "        for j in range(k,n):\n",
    "            a[i,j] = a[i,j] - p*a[k,j]\n",
    "        b[i] = b[i] - p*b[k]\n",
    "for i in range(n-1, -1, -1):\n",
    "    sum=b[i]\n",
    "    for j in range(i+1,n):\n",
    "        sum = sum - a[i,j]*x[j]\n",
    "    x[i] = sum/a[i,i]\n",
    "print('Answer')\n",
    "print(x)"
   ]
  },
  {
   "cell_type": "code",
   "execution_count": 6,
   "id": "50cfb1c1",
   "metadata": {},
   "outputs": [
    {
     "name": "stdout",
     "output_type": "stream",
     "text": [
      "Answer\n",
      "[ 0.1768253   0.01269269 -0.02065405 -1.1826087 ]\n",
      "Iterations: 1\n"
     ]
    }
   ],
   "source": [
    "# Question 2\n",
    "r = np.empty(n)\n",
    "count=0\n",
    "while np.linalg.norm(r) > 0.0001:\n",
    "    c = np.matmul(a,x)\n",
    "    for i in range(n):\n",
    "        r[i] = b[i] - c[i]\n",
    "    y = np.linalg.solve(a,r)\n",
    "    for j in range(n):\n",
    "        x[j] = x[j] + y[j]\n",
    "    count+=1\n",
    "print('Answer')\n",
    "print(x)\n",
    "print('Iterations:', count)"
   ]
  },
  {
   "cell_type": "code",
   "execution_count": 7,
   "id": "a04113c3",
   "metadata": {},
   "outputs": [
    {
     "name": "stdout",
     "output_type": "stream",
     "text": [
      "Answer\n",
      "[ 0.1768253   0.01269269 -0.02065405 -1.1826087 ]\n"
     ]
    }
   ],
   "source": [
    "# Question 3\n",
    "for k in range(n):\n",
    "    for i in range(n):\n",
    "        if i!=k:\n",
    "            mult = a[i,k]/a[k,k]\n",
    "            for j in range(k,n):\n",
    "                a[i,j] = a[i,j] - mult*a[k,j]\n",
    "            b[i] = b[i] - mult*b[k]\n",
    "c = np.zeros(n)\n",
    "for i in range(n):\n",
    "    c[i] = b[i]/a[i,i]\n",
    "print('Answer')\n",
    "print(c)"
   ]
  }
 ],
 "metadata": {
  "kernelspec": {
   "display_name": "Python 3 (ipykernel)",
   "language": "python",
   "name": "python3"
  },
  "language_info": {
   "codemirror_mode": {
    "name": "ipython",
    "version": 3
   },
   "file_extension": ".py",
   "mimetype": "text/x-python",
   "name": "python",
   "nbconvert_exporter": "python",
   "pygments_lexer": "ipython3",
   "version": "3.9.7"
  }
 },
 "nbformat": 4,
 "nbformat_minor": 5
}
