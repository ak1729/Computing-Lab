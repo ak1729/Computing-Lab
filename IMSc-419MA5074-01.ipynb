{
 "cells": [
  {
   "cell_type": "markdown",
   "id": "64ff380b",
   "metadata": {},
   "source": [
    "# Name: Anurag Kumar                                                  \n",
    "# Roll No.: 419MA5074"
   ]
  },
  {
   "cell_type": "markdown",
   "id": "63ae8564",
   "metadata": {},
   "source": [
    "## 1. Python Libraries"
   ]
  },
  {
   "cell_type": "code",
   "execution_count": 1,
   "id": "b8b61941",
   "metadata": {},
   "outputs": [],
   "source": [
    "# 1(a)\n",
    "import numpy as np\n",
    "\n",
    "# 1(b)\n",
    "import matplotlib.pyplot as plt"
   ]
  },
  {
   "cell_type": "markdown",
   "id": "4c3b5724",
   "metadata": {},
   "source": [
    "## 2. Creating a vector:"
   ]
  },
  {
   "cell_type": "code",
   "execution_count": 2,
   "id": "e7270c45",
   "metadata": {},
   "outputs": [
    {
     "data": {
      "text/plain": [
       "array([0.        , 0.66666667, 1.33333333, 2.        ])"
      ]
     },
     "execution_count": 2,
     "metadata": {},
     "output_type": "execute_result"
    }
   ],
   "source": [
    "# 2(a)\n",
    "np.linspace(0, 2, 4)"
   ]
  },
  {
   "cell_type": "code",
   "execution_count": 3,
   "id": "c94980cf",
   "metadata": {},
   "outputs": [
    {
     "data": {
      "text/plain": [
       "array([  1.        ,   4.64158883,  21.5443469 , 100.        ])"
      ]
     },
     "execution_count": 3,
     "metadata": {},
     "output_type": "execute_result"
    }
   ],
   "source": [
    "# 2(b)\n",
    "np.logspace(0, 2, 4)"
   ]
  },
  {
   "cell_type": "code",
   "execution_count": 4,
   "id": "9a3fc918",
   "metadata": {},
   "outputs": [
    {
     "data": {
      "text/plain": [
       "array([0, 1, 2, 3, 4, 5, 6, 7, 8, 9])"
      ]
     },
     "execution_count": 4,
     "metadata": {},
     "output_type": "execute_result"
    }
   ],
   "source": [
    "# 2(c)\n",
    "np.arange(0, 10, 1)"
   ]
  },
  {
   "cell_type": "code",
   "execution_count": 5,
   "id": "14b904da",
   "metadata": {},
   "outputs": [
    {
     "data": {
      "text/plain": [
       "range(0, 10, 2)"
      ]
     },
     "execution_count": 5,
     "metadata": {},
     "output_type": "execute_result"
    }
   ],
   "source": [
    "# 2(d)\n",
    "range(0, 10, 2)"
   ]
  },
  {
   "cell_type": "code",
   "execution_count": 6,
   "id": "a2bbf3dd",
   "metadata": {},
   "outputs": [
    {
     "data": {
      "text/plain": [
       "10"
      ]
     },
     "execution_count": 6,
     "metadata": {},
     "output_type": "execute_result"
    }
   ],
   "source": [
    "# 2(e)\n",
    "x = np.arange(0, 10, 1)\n",
    "len(x)"
   ]
  },
  {
   "cell_type": "markdown",
   "id": "a1681237",
   "metadata": {},
   "source": [
    "## 3. Creating a matrices:"
   ]
  },
  {
   "cell_type": "code",
   "execution_count": 7,
   "id": "cf46432f",
   "metadata": {},
   "outputs": [
    {
     "name": "stdout",
     "output_type": "stream",
     "text": [
      "[[1 2 3]\n",
      " [4 5 6]\n",
      " [7 8 9]]\n"
     ]
    }
   ],
   "source": [
    "# 3(a)\n",
    "A = np.array([[1, 2, 3], [4, 5, 6], [7, 8, 9]])\n",
    "print(A)"
   ]
  },
  {
   "cell_type": "code",
   "execution_count": 8,
   "id": "871e9ab2",
   "metadata": {},
   "outputs": [
    {
     "data": {
      "text/plain": [
       "9"
      ]
     },
     "execution_count": 8,
     "metadata": {},
     "output_type": "execute_result"
    }
   ],
   "source": [
    "# 3(b)\n",
    "A[2, 2]"
   ]
  },
  {
   "cell_type": "code",
   "execution_count": 9,
   "id": "90426c38",
   "metadata": {},
   "outputs": [
    {
     "data": {
      "text/plain": [
       "array([3, 6, 9])"
      ]
     },
     "execution_count": 9,
     "metadata": {},
     "output_type": "execute_result"
    }
   ],
   "source": [
    "# 3(c)\n",
    "A[:, 2]"
   ]
  },
  {
   "cell_type": "code",
   "execution_count": 10,
   "id": "c1b42b22",
   "metadata": {},
   "outputs": [
    {
     "data": {
      "text/plain": [
       "array([4, 5, 6])"
      ]
     },
     "execution_count": 10,
     "metadata": {},
     "output_type": "execute_result"
    }
   ],
   "source": [
    "# 3(d)\n",
    "A[1, :]"
   ]
  },
  {
   "cell_type": "code",
   "execution_count": 11,
   "id": "4e33fe1f",
   "metadata": {},
   "outputs": [
    {
     "data": {
      "text/plain": [
       "array([[0., 0., 0.],\n",
       "       [0., 0., 0.]])"
      ]
     },
     "execution_count": 11,
     "metadata": {},
     "output_type": "execute_result"
    }
   ],
   "source": [
    "# 3(e)\n",
    "np.zeros((2, 3))"
   ]
  },
  {
   "cell_type": "code",
   "execution_count": 12,
   "id": "34bc6987",
   "metadata": {},
   "outputs": [
    {
     "data": {
      "text/plain": [
       "array([[1., 1., 1., 1.],\n",
       "       [1., 1., 1., 1.],\n",
       "       [1., 1., 1., 1.]])"
      ]
     },
     "execution_count": 12,
     "metadata": {},
     "output_type": "execute_result"
    }
   ],
   "source": [
    "# 3(f)\n",
    "np.ones((3, 4))"
   ]
  },
  {
   "cell_type": "code",
   "execution_count": 13,
   "id": "6131756d",
   "metadata": {},
   "outputs": [
    {
     "data": {
      "text/plain": [
       "array([[1., 0., 0., 0.],\n",
       "       [0., 1., 0., 0.],\n",
       "       [0., 0., 1., 0.],\n",
       "       [0., 0., 0., 1.]])"
      ]
     },
     "execution_count": 13,
     "metadata": {},
     "output_type": "execute_result"
    }
   ],
   "source": [
    "# 3(g)\n",
    "np.identity(4)"
   ]
  },
  {
   "cell_type": "code",
   "execution_count": 14,
   "id": "47f49e13",
   "metadata": {},
   "outputs": [
    {
     "name": "stdout",
     "output_type": "stream",
     "text": [
      "[[1 2 3]\n",
      " [4 5 6]\n",
      " [7 8 9]]\n",
      "[[4 5 6]\n",
      " [1 2 3]\n",
      " [7 8 9]]\n"
     ]
    }
   ],
   "source": [
    "# 3(h)\n",
    "B = np.array([[1, 2, 3], [4, 5, 6], [7, 8, 9]])\n",
    "print(B)\n",
    "B[[0, 1], :] = B[[1, 0], :]\n",
    "print(B)"
   ]
  },
  {
   "cell_type": "code",
   "execution_count": 15,
   "id": "6000d2ff",
   "metadata": {},
   "outputs": [
    {
     "name": "stdout",
     "output_type": "stream",
     "text": [
      "[[3 6 9]\n",
      " [2 7 1]\n",
      " [8 4 0]]\n",
      "[[3 9 6]\n",
      " [2 1 7]\n",
      " [8 0 4]]\n"
     ]
    }
   ],
   "source": [
    "# 3(i)\n",
    "C = np.array([[3, 6, 9], [2, 7, 1], [8, 4, 0]])\n",
    "print(C)\n",
    "C[:, [1, 2]] = C[: ,[2, 1]]\n",
    "print(C)"
   ]
  },
  {
   "cell_type": "code",
   "execution_count": 16,
   "id": "8f0489b6",
   "metadata": {},
   "outputs": [
    {
     "data": {
      "text/plain": [
       "(3, 3)"
      ]
     },
     "execution_count": 16,
     "metadata": {},
     "output_type": "execute_result"
    }
   ],
   "source": [
    "# 3(j)\n",
    "A.shape[0], A.shape[1]"
   ]
  },
  {
   "cell_type": "code",
   "execution_count": 17,
   "id": "a5e19620",
   "metadata": {},
   "outputs": [
    {
     "data": {
      "text/plain": [
       "(array([7, 8, 9]), array([3, 6, 9]))"
      ]
     },
     "execution_count": 17,
     "metadata": {},
     "output_type": "execute_result"
    }
   ],
   "source": [
    "# 3(k)\n",
    "A.max(0), A.max(1)"
   ]
  },
  {
   "cell_type": "code",
   "execution_count": 18,
   "id": "61220230",
   "metadata": {},
   "outputs": [
    {
     "data": {
      "text/plain": [
       "(array([1, 2, 3]), array([1, 4, 7]))"
      ]
     },
     "execution_count": 18,
     "metadata": {},
     "output_type": "execute_result"
    }
   ],
   "source": [
    "# 3(l)\n",
    "A.min(0), A.min(1)"
   ]
  },
  {
   "cell_type": "markdown",
   "id": "543890bd",
   "metadata": {},
   "source": [
    "## 4. Plotting"
   ]
  },
  {
   "cell_type": "code",
   "execution_count": 19,
   "id": "a0885f4a",
   "metadata": {},
   "outputs": [],
   "source": [
    "# 4(a)\n",
    "import matplotlib.pyplot as plt"
   ]
  },
  {
   "cell_type": "code",
   "execution_count": 20,
   "id": "7589068a",
   "metadata": {},
   "outputs": [
    {
     "data": {
      "text/plain": [
       "[<matplotlib.lines.Line2D at 0x1a4cbdbc4f0>]"
      ]
     },
     "execution_count": 20,
     "metadata": {},
     "output_type": "execute_result"
    },
    {
     "data": {
      "image/png": "[encoded data removed]",
      "text/plain": [
       "<Figure size 432x288 with 1 Axes>"
      ]
     },
     "metadata": {
      "needs_background": "light"
     },
     "output_type": "display_data"
    }
   ],
   "source": [
    "# 4(b)\n",
    "x = np.linspace(-9, 9, 1000)\n",
    "y = abs(x)\n",
    "plt.plot(x, y)"
   ]
  },
  {
   "cell_type": "code",
   "execution_count": 21,
   "id": "33622baa",
   "metadata": {},
   "outputs": [
    {
     "data": {
      "text/plain": [
       "[<matplotlib.lines.Line2D at 0x1a4cdead280>,\n",
       " <matplotlib.lines.Line2D at 0x1a4cdead2b0>]"
      ]
     },
     "execution_count": 21,
     "metadata": {},
     "output_type": "execute_result"
    },
    {
     "data": {
      "image/png": "[encoded data removed]",
      "text/plain": [
       "<Figure size 432x288 with 1 Axes>"
      ]
     },
     "metadata": {
      "needs_background": "light"
     },
     "output_type": "display_data"
    }
   ],
   "source": [
    "# 4(c)\n",
    "x1 = np.linspace(-15, 15, 800)\n",
    "y1 = x1**2\n",
    "x2 = np.linspace(0, 10)\n",
    "y2 = 2**x2\n",
    "\n",
    "plt.plot(x1, y1, x2, y2)"
   ]
  },
  {
   "cell_type": "code",
   "execution_count": 22,
   "id": "bd232a4a",
   "metadata": {},
   "outputs": [
    {
     "data": {
      "text/plain": [
       "[<matplotlib.lines.Line2D at 0x1a4cdf19fd0>]"
      ]
     },
     "execution_count": 22,
     "metadata": {},
     "output_type": "execute_result"
    },
    {
     "data": {
      "image/png": "[encoded data removed]",
      "text/plain": [
       "<Figure size 432x288 with 1 Axes>"
      ]
     },
     "metadata": {
      "needs_background": "light"
     },
     "output_type": "display_data"
    }
   ],
   "source": [
    "# 4(d), 4(e), 4(f)\n",
    "x2 = np.linspace(-10, 10, 1000)\n",
    "y2 = x2**2\n",
    "plt.xlabel('x Axis')\n",
    "plt.ylabel('y Axis')\n",
    "plt.title('y = x^2')\n",
    "plt.plot(x2, y2)"
   ]
  },
  {
   "cell_type": "code",
   "execution_count": 23,
   "id": "a77815f0",
   "metadata": {},
   "outputs": [
    {
     "data": {
      "text/plain": [
       "<matplotlib.legend.Legend at 0x1a4cdf4c250>"
      ]
     },
     "execution_count": 23,
     "metadata": {},
     "output_type": "execute_result"
    },
    {
     "data": {
      "image/png": "[encoded data removed]",
      "text/plain": [
       "<Figure size 432x288 with 1 Axes>"
      ]
     },
     "metadata": {
      "needs_background": "light"
     },
     "output_type": "display_data"
    }
   ],
   "source": [
    "# 4(g)\n",
    "a = np.linspace(-5, 5, 1000)\n",
    "b1 = np.sin(a)\n",
    "b2 = np.cos(a)\n",
    "plt.plot(a, b1, a, b2)\n",
    "plt.legend(['sin(a)', 'cos(a)'])"
   ]
  },
  {
   "cell_type": "code",
   "execution_count": 24,
   "id": "662aeee6",
   "metadata": {},
   "outputs": [
    {
     "data": {
      "image/png": "[encoded data removed]",
      "text/plain": [
       "<Figure size 432x288 with 1 Axes>"
      ]
     },
     "metadata": {
      "needs_background": "light"
     },
     "output_type": "display_data"
    }
   ],
   "source": [
    "# 4(h)\n",
    "x3 = [0, 1, 2, 3, 4, 5, 6, 7, 8, 9]\n",
    "y3 = [0, 2, 4, 6, 8, 10, 12, 14, 16, 18]\n",
    "plt.plot(x3, y3)\n",
    "plt.show()"
   ]
  },
  {
   "cell_type": "markdown",
   "id": "bbbe85fc",
   "metadata": {},
   "source": [
    "## 5. Subplot"
   ]
  },
  {
   "cell_type": "code",
   "execution_count": 25,
   "id": "a50361e1",
   "metadata": {},
   "outputs": [
    {
     "data": {
      "text/plain": [
       "[<matplotlib.lines.Line2D at 0x1a4ce074fd0>]"
      ]
     },
     "execution_count": 25,
     "metadata": {},
     "output_type": "execute_result"
    },
    {
     "data": {
      "image/png": "[encoded data removed]",
      "text/plain": [
       "<Figure size 432x288 with 1 Axes>"
      ]
     },
     "metadata": {
      "needs_background": "light"
     },
     "output_type": "display_data"
    }
   ],
   "source": [
    "x3 = [0, 1, 2, 3, 4, 5, 6, 7, 8, 9]\n",
    "y3 = [0, 2, 4, 6, 8, 10, 12, 14, 16, 18]\n",
    "plt.subplot(1, 2, 1)\n",
    "plt.plot(x3, y3)"
   ]
  },
  {
   "cell_type": "markdown",
   "id": "f637bee8",
   "metadata": {},
   "source": [
    "## 6. Function:"
   ]
  },
  {
   "cell_type": "code",
   "execution_count": 26,
   "id": "d6057a30",
   "metadata": {},
   "outputs": [],
   "source": [
    "# 6(a)\n",
    "def function_name(x):\n",
    "    return"
   ]
  },
  {
   "cell_type": "code",
   "execution_count": 27,
   "id": "ce48aabf",
   "metadata": {},
   "outputs": [
    {
     "name": "stdout",
     "output_type": "stream",
     "text": [
      "f is 81\n"
     ]
    }
   ],
   "source": [
    "# 6(b)\n",
    "def f(x):\n",
    "    f1 = x**2 + 2*x + 1\n",
    "    return f1\n",
    "print(\"f is\",f(8))"
   ]
  },
  {
   "cell_type": "code",
   "execution_count": 28,
   "id": "3bbc8647",
   "metadata": {},
   "outputs": [
    {
     "name": "stdout",
     "output_type": "stream",
     "text": [
      "g(x, y) is 49\n"
     ]
    }
   ],
   "source": [
    "# 6(c)\n",
    "def g(x, y):\n",
    "    g1 = x**2 + y**2 + 2*x*y\n",
    "    return g1\n",
    "print(\"g(x, y) is\", g(3, 4))"
   ]
  },
  {
   "cell_type": "markdown",
   "id": "0b90425f",
   "metadata": {},
   "source": [
    "## 7. if-else Statement:"
   ]
  },
  {
   "cell_type": "code",
   "execution_count": 29,
   "id": "ea461e44",
   "metadata": {},
   "outputs": [
    {
     "name": "stdout",
     "output_type": "stream",
     "text": [
      "151\n",
      "12\n"
     ]
    }
   ],
   "source": [
    "# 7(a)\n",
    "def f(x):\n",
    "    if(x >= 5):\n",
    "        return (x**2 + 5*x + 1)\n",
    "    else:\n",
    "        return (x + 8)\n",
    "\n",
    "print(f(10))\n",
    "print(f(4))"
   ]
  },
  {
   "cell_type": "code",
   "execution_count": 30,
   "id": "14d703d9",
   "metadata": {},
   "outputs": [
    {
     "name": "stdout",
     "output_type": "stream",
     "text": [
      "2\n",
      "1501\n",
      "-2\n"
     ]
    }
   ],
   "source": [
    "# 7(b)\n",
    "def g(x):\n",
    "    if(1 < x < 5):\n",
    "        return (x-2)\n",
    "    elif(x >= 5):\n",
    "        return (x**3 + 5*x**2 + 1)\n",
    "    else:\n",
    "        return (x**2 - 8*x - 2)\n",
    "    \n",
    "print(g(4))\n",
    "print(g(10))\n",
    "print(g(0))"
   ]
  },
  {
   "cell_type": "markdown",
   "id": "a3cf5321",
   "metadata": {},
   "source": [
    "## 8. For loop: "
   ]
  },
  {
   "cell_type": "code",
   "execution_count": 31,
   "id": "94e576e4",
   "metadata": {},
   "outputs": [
    {
     "name": "stdout",
     "output_type": "stream",
     "text": [
      "55\n"
     ]
    }
   ],
   "source": [
    "# 8(a)\n",
    "sum1 = 0\n",
    "for i in range(1, 11):\n",
    "    sum1 += i\n",
    "    \n",
    "print(sum1)"
   ]
  },
  {
   "cell_type": "code",
   "execution_count": 32,
   "id": "69f2d097",
   "metadata": {},
   "outputs": [
    {
     "name": "stdout",
     "output_type": "stream",
     "text": [
      "42975\n"
     ]
    }
   ],
   "source": [
    "sum2 = 0\n",
    "for i in range(1, 51):\n",
    "    sum2 += (i**2 + 1)\n",
    "print(sum2)"
   ]
  },
  {
   "cell_type": "code",
   "execution_count": 33,
   "id": "f08c59b1",
   "metadata": {},
   "outputs": [
    {
     "name": "stdout",
     "output_type": "stream",
     "text": [
      "3025\n"
     ]
    }
   ],
   "source": [
    "sum3 = 0\n",
    "for i in range(1, 11):\n",
    "    sum3 += i**3\n",
    "print(sum3)"
   ]
  },
  {
   "cell_type": "code",
   "execution_count": 34,
   "id": "1f6a32e9",
   "metadata": {},
   "outputs": [
    {
     "name": "stdout",
     "output_type": "stream",
     "text": [
      "1.4111883712180104\n"
     ]
    }
   ],
   "source": [
    "# 8(b)\n",
    "sum4 = 0\n",
    "for i in range(1, 11):\n",
    "    sum4 += np.sin(i)\n",
    "print(sum4)"
   ]
  },
  {
   "cell_type": "markdown",
   "id": "3511cd04",
   "metadata": {},
   "source": [
    "## 9. While loop:"
   ]
  },
  {
   "cell_type": "code",
   "execution_count": 35,
   "id": "de268575",
   "metadata": {},
   "outputs": [
    {
     "name": "stdout",
     "output_type": "stream",
     "text": [
      "1\n",
      "2\n",
      "3\n",
      "4\n",
      "5\n",
      "6\n",
      "7\n",
      "8\n",
      "9\n"
     ]
    }
   ],
   "source": [
    "x = 1\n",
    "while(x**3 < 1000):\n",
    "    print(x)\n",
    "    x = x + 1"
   ]
  }
 ],
 "metadata": {
  "kernelspec": {
   "display_name": "Python 3 (ipykernel)",
   "language": "python",
   "name": "python3"
  },
  "language_info": {
   "codemirror_mode": {
    "name": "ipython",
    "version": 3
   },
   "file_extension": ".py",
   "mimetype": "text/x-python",
   "name": "python",
   "nbconvert_exporter": "python",
   "pygments_lexer": "ipython3",
   "version": "3.9.7"
  }
 },
 "nbformat": 4,
 "nbformat_minor": 5
}
