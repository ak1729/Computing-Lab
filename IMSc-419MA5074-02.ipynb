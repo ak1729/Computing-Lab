{
 "cells": [
  {
   "cell_type": "markdown",
   "id": "14802f51",
   "metadata": {},
   "source": [
    "## Anurag Kumar\n",
    "## 419MA5074"
   ]
  },
  {
   "cell_type": "code",
   "execution_count": 1,
   "id": "5f85169d",
   "metadata": {},
   "outputs": [
    {
     "data": {
      "text/plain": [
       "(-2, 98)"
      ]
     },
     "execution_count": 1,
     "metadata": {},
     "output_type": "execute_result"
    }
   ],
   "source": [
    "# 1\n",
    "def f(x):\n",
    "    return x**2-2;\n",
    "f(0), f(10)"
   ]
  },
  {
   "cell_type": "code",
   "execution_count": 2,
   "id": "41c31a27",
   "metadata": {},
   "outputs": [
    {
     "name": "stdout",
     "output_type": "stream",
     "text": [
      "0 1 2 1.5 -1 2 0.25\n",
      "1 1 1.5 1.25 -1 0.25 -0.4375\n",
      "2 1.25 1.5 1.375 -0.4375 0.25 -0.109375\n",
      "3 1.375 1.5 1.4375 -0.109375 0.25 0.06640625\n",
      "4 1.375 1.4375 1.40625 -0.109375 0.06640625 -0.0224609375\n",
      "5 1.40625 1.4375 1.421875 -0.0224609375 0.06640625 0.021728515625\n",
      "6 1.40625 1.421875 1.4140625 -0.0224609375 0.021728515625 -0.00042724609375\n",
      "7 1.4140625 1.421875 1.41796875 -0.00042724609375 0.021728515625 0.0106353759765625\n",
      "8 1.4140625 1.41796875 1.416015625 -0.00042724609375 0.0106353759765625 0.005100250244140625\n",
      "9 1.4140625 1.416015625 1.4150390625 -0.00042724609375 0.005100250244140625 0.0023355484008789062\n",
      "10 1.4140625 1.4150390625 1.41455078125 -0.00042724609375 0.0023355484008789062 0.0009539127349853516\n",
      "The approximate value of f(2^(1/2)) is  1.41455078125\n"
     ]
    }
   ],
   "source": [
    "a = 1\n",
    "b = 2\n",
    "c = (a + b) / 2\n",
    "iteration = 0\n",
    "print(iteration, a, b, c, f(a), f(b), f(c))\n",
    "for i in range(1,11):\n",
    "    if f(a)*f(c)<0:\n",
    "        b=c\n",
    "    else:\n",
    "        a=c\n",
    "    c=(a+b)/2\n",
    "    iteration+=1\n",
    "    print(iteration, a, b, c, f(a), f(b), f(c))\n",
    "    \n",
    "import numpy as np\n",
    "print('The approximate value of f(2^(1/2)) is ',c)"
   ]
  },
  {
   "cell_type": "code",
   "execution_count": 3,
   "id": "477bd0a5",
   "metadata": {},
   "outputs": [
    {
     "name": "stdout",
     "output_type": "stream",
     "text": [
      "Absolute error 1 2 1.4142135679721832 24\n"
     ]
    }
   ],
   "source": [
    "# 2(a)\n",
    "a = 1\n",
    "b = 2\n",
    "c = (a + b) / 2\n",
    "iteration=0\n",
    "while abs(a-b)>0.0000001:\n",
    "    if f(a)*f(c)<0:\n",
    "        b=c\n",
    "    else:\n",
    "        a=c\n",
    "    c=(a+b)/2\n",
    "    iteration+=1\n",
    "print('Absolute error',1,2, c, iteration)"
   ]
  },
  {
   "cell_type": "code",
   "execution_count": 4,
   "id": "c92b35fc",
   "metadata": {},
   "outputs": [
    {
     "name": "stdout",
     "output_type": "stream",
     "text": [
      "Relative error 1 2 1.4142135977745056 23\n"
     ]
    }
   ],
   "source": [
    "# 2(b)\n",
    "a = 1\n",
    "b = 2\n",
    "c = (a + b) / 2\n",
    "iteration=0\n",
    "while abs(a-b)/a > 0.0000001:\n",
    "    if f(a)*f(c)<0:\n",
    "        b=c\n",
    "    else:\n",
    "        a=c\n",
    "    c=(a+b)/2\n",
    "    iteration+=1\n",
    "print('Relative error',1,2, c, iteration)"
   ]
  },
  {
   "cell_type": "code",
   "execution_count": 5,
   "id": "97203b8b",
   "metadata": {},
   "outputs": [
    {
     "name": "stdout",
     "output_type": "stream",
     "text": [
      "Functional value 1 2 1.4142135381698608 22\n"
     ]
    }
   ],
   "source": [
    "# 2(c)\n",
    "a = 1\n",
    "b = 2\n",
    "c = (a + b) / 2\n",
    "iteration=0\n",
    "while abs(f(c))>0.0000001:\n",
    "    if f(a)*f(c)<0:\n",
    "        b=c\n",
    "    else:\n",
    "        a=c\n",
    "    c=(a+b)/2\n",
    "    iteration+=1\n",
    "print('Functional value',1,2, c, iteration)"
   ]
  }
 ],
 "metadata": {
  "kernelspec": {
   "display_name": "Python 3 (ipykernel)",
   "language": "python",
   "name": "python3"
  },
  "language_info": {
   "codemirror_mode": {
    "name": "ipython",
    "version": 3
   },
   "file_extension": ".py",
   "mimetype": "text/x-python",
   "name": "python",
   "nbconvert_exporter": "python",
   "pygments_lexer": "ipython3",
   "version": "3.9.7"
  }
 },
 "nbformat": 4,
 "nbformat_minor": 5
}
