{
 "cells": [
  {
   "cell_type": "markdown",
   "id": "21d67b5e",
   "metadata": {},
   "source": [
    "## Anurag Kumar\n",
    "## 419MA5074"
   ]
  },
  {
   "cell_type": "code",
   "execution_count": 1,
   "id": "d133dba0",
   "metadata": {},
   "outputs": [],
   "source": [
    "import numpy as np"
   ]
  },
  {
   "cell_type": "code",
   "execution_count": 6,
   "id": "5a2fc183",
   "metadata": {},
   "outputs": [
    {
     "data": {
      "text/plain": [
       "array([[  6,  -2,   2,   4],\n",
       "       [ 12,  -4,   6,  10],\n",
       "       [  3, -13,   9,   3],\n",
       "       [ -6,   4,   1, -18]])"
      ]
     },
     "execution_count": 6,
     "metadata": {},
     "output_type": "execute_result"
    }
   ],
   "source": [
    "A = np.array([[6,-2,2,4],[12,-4,6,10],[3,-13,9,3],[-6,4,1,-18]])\n",
    "A"
   ]
  },
  {
   "cell_type": "code",
   "execution_count": 8,
   "id": "676f4f08",
   "metadata": {},
   "outputs": [
    {
     "data": {
      "text/plain": [
       "array([ 16,  30, -19, -34])"
      ]
     },
     "execution_count": 8,
     "metadata": {},
     "output_type": "execute_result"
    }
   ],
   "source": [
    "b = np.array([16, 30, -19, -34])\n",
    "b"
   ]
  },
  {
   "cell_type": "code",
   "execution_count": 17,
   "id": "f42ad890",
   "metadata": {},
   "outputs": [
    {
     "name": "stdout",
     "output_type": "stream",
     "text": [
      "[ 3.  1. -2.  1.]\n"
     ]
    }
   ],
   "source": [
    "# Question 1(a)\n",
    "\n",
    "n = len(b)\n",
    "n\n",
    "for k in range (n-1):\n",
    "    max_row_index = np.argmax(abs(A[k:n,k]))+k\n",
    "    A[[k,max_row_index]] = A[[max_row_index,k]]\n",
    "    b[[k,max_row_index]] = b[[max_row_index,k]]\n",
    "    \n",
    "    for i in range(k+1,n,1):\n",
    "        mult = A[i,k]/A[k,k]\n",
    "        for j in range(k,n,1):\n",
    "            A[i,j] = A[i,j]-mult*A[k,j]\n",
    "        b[i] = b[i]-mult*b[k]\n",
    "x = np.zeros(n)\n",
    "x[n-1] = b[n-1]/A[n-1,n-1]\n",
    "for i in range(n-2,-1,-1):\n",
    "    sum = b[i]\n",
    "    for j in range(i+1,n,1):\n",
    "        sum = sum -A[i,j]*x[j]\n",
    "    x[i] = sum/A[i,i]\n",
    "print(x)"
   ]
  },
  {
   "cell_type": "code",
   "execution_count": 18,
   "id": "3cdd42cf",
   "metadata": {},
   "outputs": [
    {
     "name": "stdout",
     "output_type": "stream",
     "text": [
      "Answer\n",
      "[ 2.83333333  1.         -2.          1.        ]\n"
     ]
    }
   ],
   "source": [
    "# Question 1(b)\n",
    "\n",
    "for k in range(n):\n",
    "    for i in range(n):\n",
    "        if i!=k:\n",
    "            mult = A[i,k]/A[k,k]\n",
    "            for j in range(k,n):\n",
    "                A[i,j] = A[i,j] - mult*A[k,j]\n",
    "            b[i] = b[i] - mult*b[k]\n",
    "c = np.zeros(n)\n",
    "for i in range(n):\n",
    "    c[i] = b[i]/A[i,i]\n",
    "print('Answer')\n",
    "print(c)"
   ]
  },
  {
   "cell_type": "code",
   "execution_count": 19,
   "id": "66162032",
   "metadata": {},
   "outputs": [
    {
     "name": "stdout",
     "output_type": "stream",
     "text": [
      "[[ 1.  0.  0.  0.]\n",
      " [ 0.  1.  0.  0.]\n",
      " [ 0. -0.  1.  0.]\n",
      " [ 0. -0.  0.  1.]]\n",
      "[[ 12   0   0   0]\n",
      " [  0 -12   0   0]\n",
      " [  0   0   5   0]\n",
      " [  0   0   0  -3]]\n",
      "[[1. 0. 0. 0.]\n",
      " [0. 1. 0. 0.]\n",
      " [0. 0. 1. 0.]\n",
      " [0. 0. 0. 1.]]\n",
      "[[ 12.   0.   0.   0.]\n",
      " [  0. -12.   0.   0.]\n",
      " [  0.   0.   5.   0.]\n",
      " [  0.   0.   0.  -3.]]\n",
      "[[ 12.   0.   0.   0.]\n",
      " [  0. -12.   0.   0.]\n",
      " [  0.   0.   5.   0.]\n",
      " [  0.   0.   0.  -3.]]\n"
     ]
    }
   ],
   "source": [
    "# Question 1(c)\n",
    "\n",
    "n = A.shape[0]\n",
    "L = np.zeros([n,n])\n",
    "P = np.identity(n)\n",
    "for k in range(n-1):\n",
    "    max_row_index = np.argmax(abs(A[k:n,k]))+k\n",
    "    A[[k,max_row_index]] = A[[max_row_index,k]]\n",
    "    P[[k,max_row_index]] = P[[max_row_index,k]]\n",
    "    L[[k,max_row_index]] = L[[max_row_index,k]]\n",
    "    for i in range(k+1,n,1):\n",
    "        mult = A[i,k]/A[k,k]\n",
    "        L[i,k] = mult\n",
    "        for j in range(k,n,1):\n",
    "            A[i,j] = A[i,j]-mult*A[k,j]\n",
    "U=A\n",
    "for i in range(n):\n",
    "    L[i,i]=1\n",
    "print(L)\n",
    "print(U)\n",
    "print(P)\n",
    "print(np.dot(L,U))\n",
    "print(np.dot(P,A))"
   ]
  }
 ],
 "metadata": {
  "kernelspec": {
   "display_name": "Python 3 (ipykernel)",
   "language": "python",
   "name": "python3"
  },
  "language_info": {
   "codemirror_mode": {
    "name": "ipython",
    "version": 3
   },
   "file_extension": ".py",
   "mimetype": "text/x-python",
   "name": "python",
   "nbconvert_exporter": "python",
   "pygments_lexer": "ipython3",
   "version": "3.9.7"
  }
 },
 "nbformat": 4,
 "nbformat_minor": 5
}
