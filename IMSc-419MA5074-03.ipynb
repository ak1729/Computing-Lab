{
 "cells": [
  {
   "cell_type": "markdown",
   "id": "024360a7",
   "metadata": {},
   "source": [
    "## Anurag Kumar\n",
    "## 419MA5074"
   ]
  },
  {
   "cell_type": "markdown",
   "id": "964e9d63",
   "metadata": {},
   "source": [
    "## Regula-Falsi Method"
   ]
  },
  {
   "cell_type": "code",
   "execution_count": 1,
   "id": "e6a8ead3",
   "metadata": {},
   "outputs": [
    {
     "data": {
      "text/plain": [
       "(-1, 2)"
      ]
     },
     "execution_count": 1,
     "metadata": {},
     "output_type": "execute_result"
    }
   ],
   "source": [
    "def f(x):\n",
    "    return x**2 - 2\n",
    "(f(1), f(2))"
   ]
  },
  {
   "cell_type": "code",
   "execution_count": 2,
   "id": "1967b029",
   "metadata": {},
   "outputs": [
    {
     "name": "stdout",
     "output_type": "stream",
     "text": [
      "1.4\n",
      "1.411764705882353\n",
      "1.4137931034482758\n",
      "1.414141414141414\n",
      "1.4142011834319526\n",
      "1.41421143847487\n",
      "1.4142131979695434\n",
      "1.4142134998513232\n",
      "1.4142135516460548\n",
      "1.4142135605326258\n"
     ]
    }
   ],
   "source": [
    "# 1\n",
    "a = 1\n",
    "b = 2\n",
    "x = ((a*f(b))-(b*f(a)))/(f(b)-f(a))\n",
    "\n",
    "for i in range(1, 11):\n",
    "    if(f(a)*f(x) < 0):\n",
    "        b = x\n",
    "    else:\n",
    "        a = x\n",
    "    x = ((a*f(b))-(b*f(a)))/(f(b)-f(a))\n",
    "    print(x)"
   ]
  },
  {
   "cell_type": "code",
   "execution_count": 3,
   "id": "5a21a322",
   "metadata": {},
   "outputs": [
    {
     "name": "stdout",
     "output_type": "stream",
     "text": [
      "1.4\n",
      "1.411764705882353\n",
      "1.4137931034482758\n",
      "1.414141414141414\n",
      "1.4142011834319526\n",
      "1.41421143847487\n",
      "1.4142131979695434\n",
      "1.4142134998513232\n",
      "1.4142135516460548\n",
      "1.4142135605326258\n",
      "1.4142135620573202\n",
      "1.4142135623189167\n",
      "1.4142135623637997\n",
      "1.4142135623715004\n",
      "1.4142135623728216\n",
      "1.4142135623730478\n",
      "1.4142135623730872\n",
      "1.4142135623730938\n",
      "1.414213562373095\n",
      "1.4142135623730951\n",
      "1.414213562373095\n",
      "21\n"
     ]
    }
   ],
   "source": [
    "# 2(a)\n",
    "a = 1\n",
    "b = 2\n",
    "count = 0\n",
    "x = ((a*f(b))-(b*f(a)))/(f(b)-f(a))\n",
    "\n",
    "while(abs(a-b) > 0.0000001):\n",
    "    if(f(a)*f(x) < 0):\n",
    "        b = x\n",
    "    else:\n",
    "        a = x\n",
    "    x = ((a*f(b))-(b*f(a)))/(f(b)-f(a))\n",
    "    count = count + 1\n",
    "    print(x)\n",
    "print(count)"
   ]
  },
  {
   "cell_type": "code",
   "execution_count": 4,
   "id": "45d391aa",
   "metadata": {},
   "outputs": [
    {
     "name": "stdout",
     "output_type": "stream",
     "text": [
      "1.4\n",
      "1.411764705882353\n",
      "1.4137931034482758\n",
      "1.414141414141414\n",
      "1.4142011834319526\n",
      "1.41421143847487\n",
      "1.4142131979695434\n",
      "1.4142134998513232\n",
      "1.4142135516460548\n",
      "1.4142135605326258\n",
      "1.4142135620573202\n",
      "1.4142135623189167\n",
      "1.4142135623637997\n",
      "1.4142135623715004\n",
      "1.4142135623728216\n",
      "1.4142135623730478\n",
      "1.4142135623730872\n",
      "1.4142135623730938\n",
      "1.414213562373095\n",
      "1.4142135623730951\n",
      "1.414213562373095\n",
      "21\n"
     ]
    }
   ],
   "source": [
    "# 2(b)\n",
    "a = 1\n",
    "b = 2\n",
    "count = 0\n",
    "x = ((a*f(b))-(b*f(a)))/(f(b)-f(a))\n",
    "\n",
    "while(abs(a-b)/a > 0.0000001):\n",
    "    if(f(a)*f(x) < 0):\n",
    "        b = x\n",
    "    else:\n",
    "        a = x\n",
    "    x = ((a*f(b))-(b*f(a)))/(f(b)-f(a))\n",
    "    count = count + 1\n",
    "    print(x)\n",
    "print(count)"
   ]
  },
  {
   "cell_type": "code",
   "execution_count": 5,
   "id": "8398b080",
   "metadata": {},
   "outputs": [
    {
     "name": "stdout",
     "output_type": "stream",
     "text": [
      "1.4\n",
      "1.411764705882353\n",
      "1.4137931034482758\n",
      "1.414141414141414\n",
      "1.4142011834319526\n",
      "1.41421143847487\n",
      "1.4142131979695434\n",
      "1.4142134998513232\n",
      "1.4142135516460548\n",
      "9\n"
     ]
    }
   ],
   "source": [
    "# 2(c)\n",
    "a = 1\n",
    "b = 2\n",
    "count = 0\n",
    "x = ((a*f(b))-(b*f(a)))/(f(b)-f(a))\n",
    "\n",
    "while(abs(f(x)) > 0.0000001):\n",
    "    if(f(a)*f(x) < 0):\n",
    "        b = x\n",
    "    else:\n",
    "        a = x\n",
    "    x = ((a*f(b))-(b*f(a)))/(f(b)-f(a))\n",
    "    count = count + 1\n",
    "    print(x)\n",
    "print(count)"
   ]
  },
  {
   "cell_type": "markdown",
   "id": "b5d518aa",
   "metadata": {},
   "source": [
    "## Secant Method"
   ]
  },
  {
   "cell_type": "code",
   "execution_count": 6,
   "id": "cc0d6937",
   "metadata": {},
   "outputs": [
    {
     "name": "stdout",
     "output_type": "stream",
     "text": [
      "1.4\n",
      "1.4146341463414633\n",
      "1.41421143847487\n",
      "1.4142135620573204\n",
      "1.4142135623730951\n",
      "1.414213562373095\n",
      "6\n"
     ]
    }
   ],
   "source": [
    "# 3(a)\n",
    "a = 1\n",
    "b = 2\n",
    "x = (a*f(b)-b*f(a))/(f(b)-f(a))\n",
    "count = 0\n",
    "while abs(a-b) > 0.0000001:\n",
    "    a = b\n",
    "    b = x\n",
    "    x = (a*f(b)-b*f(a))/(f(b)-f(a))\n",
    "    count+=1\n",
    "    print(x)\n",
    "print(count)"
   ]
  },
  {
   "cell_type": "code",
   "execution_count": 7,
   "id": "009cdb34",
   "metadata": {},
   "outputs": [
    {
     "name": "stdout",
     "output_type": "stream",
     "text": [
      "1.4\n",
      "1.4146341463414633\n",
      "1.41421143847487\n",
      "1.4142135620573204\n",
      "1.4142135623730951\n",
      "1.414213562373095\n",
      "6\n"
     ]
    }
   ],
   "source": [
    "# 3(b)\n",
    "a = 1\n",
    "b = 2\n",
    "x = (a*f(b)-b*f(a))/(f(b)-f(a))\n",
    "count = 0\n",
    "while abs(a-b)/a > 0.0000001:\n",
    "    a = b\n",
    "    b = x\n",
    "    x = (a*f(b)-b*f(a))/(f(b)-f(a))\n",
    "    count+=1\n",
    "    print(x)\n",
    "print(count)"
   ]
  },
  {
   "cell_type": "code",
   "execution_count": 8,
   "id": "fe4cd294",
   "metadata": {},
   "outputs": [
    {
     "name": "stdout",
     "output_type": "stream",
     "text": [
      "1.4\n",
      "1.4146341463414633\n",
      "1.41421143847487\n",
      "1.4142135620573204\n",
      "4\n"
     ]
    }
   ],
   "source": [
    "a = 1\n",
    "b = 2\n",
    "x = (a*f(b)-b*f(a))/(f(b)-f(a))\n",
    "count = 0\n",
    "while abs(f(x)) > 0.0000001:\n",
    "    a = b\n",
    "    b = x\n",
    "    x = (a*f(b)-b*f(a))/(f(b)-f(a))\n",
    "    count+=1\n",
    "    print(x)\n",
    "print(count)"
   ]
  },
  {
   "cell_type": "markdown",
   "id": "14eda7d7",
   "metadata": {},
   "source": [
    "## Newton-Raphson Method"
   ]
  },
  {
   "cell_type": "code",
   "execution_count": 9,
   "id": "1b90c7f8",
   "metadata": {},
   "outputs": [
    {
     "name": "stdout",
     "output_type": "stream",
     "text": [
      "1.5\n",
      "1.4166666666666667\n",
      "1.4142156862745099\n",
      "1.4142135623746899\n",
      "1.4142135623730951\n",
      "5\n"
     ]
    }
   ],
   "source": [
    "def f(x):\n",
    "    return x**2 -2\n",
    "def df(x):\n",
    "    return 2*x\n",
    "x0 = 2\n",
    "abs_err = 1\n",
    "count=0\n",
    "while abs(abs_err) > 0.0000001:\n",
    "    x1 = x0 - (f(x0)/df(x0))\n",
    "    abs_err= x1 - x0\n",
    "    x0 = x1\n",
    "    count+=1\n",
    "    print(x0)\n",
    "print(count)"
   ]
  },
  {
   "cell_type": "code",
   "execution_count": 10,
   "id": "2c7eb280",
   "metadata": {},
   "outputs": [
    {
     "name": "stdout",
     "output_type": "stream",
     "text": [
      "1.5\n",
      "1.4166666666666667\n",
      "1.4142156862745099\n",
      "1.4142135623746899\n",
      "1.4142135623730951\n",
      "5\n"
     ]
    }
   ],
   "source": [
    "x0 = 2\n",
    "rel_err = 1\n",
    "count=0\n",
    "while abs(rel_err) > 0.0000001:\n",
    "    x1 = x0 - (f(x0)/df(x0))\n",
    "    rel_err= (x1 - x0)/x0\n",
    "    x0 = x1\n",
    "    count+=1\n",
    "    print(x0)\n",
    "print(count)"
   ]
  },
  {
   "cell_type": "code",
   "execution_count": 11,
   "id": "afc44169",
   "metadata": {},
   "outputs": [
    {
     "name": "stdout",
     "output_type": "stream",
     "text": [
      "1.5\n",
      "1.4166666666666667\n",
      "1.4142156862745099\n",
      "1.4142135623746899\n",
      "4\n"
     ]
    }
   ],
   "source": [
    "x0 = 2\n",
    "count=0\n",
    "while abs(f(x0)) > 0.0000001:\n",
    "    x1 = x0 - (f(x0)/df(x0))\n",
    "    x0 = x1\n",
    "    count+=1\n",
    "    print(x0)\n",
    "print(count)"
   ]
  }
 ],
 "metadata": {
  "kernelspec": {
   "display_name": "Python 3 (ipykernel)",
   "language": "python",
   "name": "python3"
  },
  "language_info": {
   "codemirror_mode": {
    "name": "ipython",
    "version": 3
   },
   "file_extension": ".py",
   "mimetype": "text/x-python",
   "name": "python",
   "nbconvert_exporter": "python",
   "pygments_lexer": "ipython3",
   "version": "3.9.7"
  }
 },
 "nbformat": 4,
 "nbformat_minor": 5
}
